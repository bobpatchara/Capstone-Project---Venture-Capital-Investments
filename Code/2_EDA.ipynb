{
 "cells": [
  {
   "cell_type": "markdown",
   "id": "8d15955f",
   "metadata": {},
   "source": [
    "## Capstone Project - Startup Investments"
   ]
  },
  {
   "cell_type": "markdown",
   "id": "6ae3969e",
   "metadata": {},
   "source": [
    "### Part 2 - Exploratory Data Analysis"
   ]
  },
  {
   "cell_type": "code",
   "execution_count": 1,
   "id": "7aed5a95",
   "metadata": {},
   "outputs": [],
   "source": [
    "## Data handling Libraries ###\n",
    "\n",
    "import pandas as pd\n",
    "import numpy as np\n",
    "\n",
    "## Plotting Libraries ###\n",
    "import matplotlib.pyplot as plt\n",
    "import seaborn as sns\n",
    "plt.style.use('ggplot')\n",
    "plt.rcParams['figure.figsize'] = (12,8)\n",
    "\n",
    "## Date Time ###\n",
    "import datetime\n",
    "import time\n",
    "import pytz\n",
    "\n",
    "### Warnings ###\n",
    "import warnings\n",
    "warnings.filterwarnings('ignore')\n",
    "\n",
    "### Progress Bar ###\n",
    "from tqdm import tqdm\n",
    "\n",
    "### Model Building, Model Evaluvation, Model Preprocessing ###\n",
    "from sklearn.model_selection import train_test_split, cross_val_score, cross_val_predict,RepeatedStratifiedKFold,StratifiedKFold\n",
    "from sklearn import preprocessing\n",
    "from sklearn.preprocessing import StandardScaler\n",
    "from sklearn.model_selection import RandomizedSearchCV\n",
    "from sklearn.inspection import permutation_importance\n",
    "from sklearn.feature_selection import VarianceThreshold,RFECV\n",
    "\n",
    "### Models Imbalance #\n",
    "\n",
    "from imblearn.under_sampling import RandomUnderSampler\n",
    "from imblearn.over_sampling import SMOTE\n",
    "from imblearn.pipeline import Pipeline\n",
    "\n",
    "# ML MODELS #\n",
    "\n",
    "from sklearn.dummy import DummyClassifier\n",
    "from sklearn.ensemble import RandomForestClassifier\n",
    "from sklearn.linear_model import LogisticRegressionCV\n",
    "from sklearn.neighbors import KNeighborsClassifier\n",
    "\n",
    "# Scoring Dependancies #\n",
    "\n",
    "from sklearn.metrics import accuracy_score, recall_score, precision_score, f1_score \n",
    "# from sklearn.metrics import average_precision_score,make_scorer\n",
    "from sklearn.model_selection import cross_val_score, cross_validate, KFold\n",
    "import sklearn.metrics as metrics\n",
    "from sklearn.metrics import confusion_matrix\n",
    "\n",
    "# Models Saving #\n",
    "\n",
    "import pickle\n",
    "\n",
    "# Other #\n",
    "from collections import Counter\n",
    "from sklearn.utils import shuffle"
   ]
  },
  {
   "cell_type": "code",
   "execution_count": 2,
   "id": "98397bab",
   "metadata": {},
   "outputs": [],
   "source": [
    "pd.set_option('display.max_rows', 100)\n",
    "pd.set_option('display.max_columns', 1000)"
   ]
  },
  {
   "cell_type": "code",
   "execution_count": 3,
   "id": "99417ff5",
   "metadata": {},
   "outputs": [],
   "source": [
    "df = pd.read_csv('../dataset/data_cleaning.csv')"
   ]
  },
  {
   "cell_type": "code",
   "execution_count": 4,
   "id": "49ad8d3e",
   "metadata": {},
   "outputs": [],
   "source": [
    "df_ori = pd.read_csv('../dataset/data_cleaning.csv')"
   ]
  },
  {
   "cell_type": "code",
   "execution_count": 5,
   "id": "b52e6d92",
   "metadata": {},
   "outputs": [
    {
     "data": {
      "text/plain": [
       "(39802, 34)"
      ]
     },
     "execution_count": 5,
     "metadata": {},
     "output_type": "execute_result"
    }
   ],
   "source": [
    "df.shape"
   ]
  },
  {
   "cell_type": "markdown",
   "id": "46ebb11a",
   "metadata": {},
   "source": [
    "#### Constant"
   ]
  },
  {
   "cell_type": "code",
   "execution_count": 6,
   "id": "4b5e1bda",
   "metadata": {},
   "outputs": [],
   "source": [
    "LISTCOLUMNNAME= []\n",
    "LISTFUNDINGCOL = ['seed', 'venture',\n",
    "       'equity_crowdfunding', 'undisclosed', 'convertible_note',\n",
    "       'debt_financing', 'grant', 'private_equity', 'post_ipo_equity',\n",
    "       'post_ipo_debt', 'secondary_market', 'product_crowdfunding', 'round_A',\n",
    "       'round_B', 'round_C', 'round_D', 'round_E', 'round_F', 'round_G',\n",
    "       'round_H']"
   ]
  },
  {
   "cell_type": "code",
   "execution_count": 7,
   "id": "bc563426",
   "metadata": {
    "scrolled": false
   },
   "outputs": [
    {
     "name": "stdout",
     "output_type": "stream",
     "text": [
      "<class 'pandas.core.frame.DataFrame'>\n",
      "RangeIndex: 39802 entries, 0 to 39801\n",
      "Data columns (total 34 columns):\n",
      " #   Column                Non-Null Count  Dtype  \n",
      "---  ------                --------------  -----  \n",
      " 0   homepage_url          37524 non-null  object \n",
      " 1   category_list         37592 non-null  object \n",
      " 2   market                37587 non-null  object \n",
      " 3   status                39802 non-null  object \n",
      " 4   country_code          39802 non-null  object \n",
      " 5   region                39802 non-null  object \n",
      " 6   funding_rounds        39802 non-null  float64\n",
      " 7   founded_at            31441 non-null  object \n",
      " 8   founded_month         31375 non-null  object \n",
      " 9   founded_quarter       31375 non-null  object \n",
      " 10  founded_year          31375 non-null  float64\n",
      " 11  first_funding_at      39802 non-null  object \n",
      " 12  last_funding_at       39802 non-null  object \n",
      " 13  seed                  39802 non-null  float64\n",
      " 14  venture               39802 non-null  float64\n",
      " 15  equity_crowdfunding   39802 non-null  float64\n",
      " 16  undisclosed           39802 non-null  float64\n",
      " 17  convertible_note      39802 non-null  float64\n",
      " 18  debt_financing        39802 non-null  float64\n",
      " 19  grant                 39802 non-null  float64\n",
      " 20  private_equity        39802 non-null  float64\n",
      " 21  post_ipo_equity       39802 non-null  float64\n",
      " 22  post_ipo_debt         39802 non-null  float64\n",
      " 23  secondary_market      39802 non-null  float64\n",
      " 24  product_crowdfunding  39802 non-null  float64\n",
      " 25  round_A               39802 non-null  float64\n",
      " 26  round_B               39802 non-null  float64\n",
      " 27  round_C               39802 non-null  float64\n",
      " 28  round_D               39802 non-null  float64\n",
      " 29  round_E               39802 non-null  float64\n",
      " 30  round_F               39802 non-null  float64\n",
      " 31  round_G               39802 non-null  float64\n",
      " 32  round_H               39802 non-null  float64\n",
      " 33  f_SumCol              39802 non-null  float64\n",
      "dtypes: float64(23), object(11)\n",
      "memory usage: 10.3+ MB\n"
     ]
    }
   ],
   "source": [
    "df.info()"
   ]
  },
  {
   "cell_type": "markdown",
   "id": "d926c728",
   "metadata": {},
   "source": [
    "#### Imbalanced Data set"
   ]
  },
  {
   "cell_type": "markdown",
   "id": "bdc65618",
   "metadata": {},
   "source": [
    "From the above graph, we can see that the data set is a highly imbalanced data set i.e. at least one of the classes dominate over others. If we encounter a highly imbalanced data set, accuracy will not be the best metric to evaluate the performance of the model since accuracy score will be high even if our model predicts that all the unseen data belongs to the majority class. Hence, we need to evaluate the True Positive Rate (Recall), False Positive Rate (Specificity), Precession or F1-Score depending on the problem statement."
   ]
  },
  {
   "cell_type": "code",
   "execution_count": 8,
   "id": "6bff2c39",
   "metadata": {},
   "outputs": [
    {
     "data": {
      "image/png": "[encoded data removed]",
      "text/plain": [
       "<Figure size 700x350 with 1 Axes>"
      ]
     },
     "metadata": {},
     "output_type": "display_data"
    }
   ],
   "source": [
    "### Imbalanced Dataset ###\n",
    "\n",
    "plt.figure(figsize = (10,5), facecolor = 'black', dpi=70)\n",
    "sns.set(rc={'axes.facecolor':'black', \n",
    "            'figure.facecolor':'black', \n",
    "            'axes.spines.top': False\n",
    "            })\n",
    "\n",
    "ax = df['status'].value_counts(dropna = False).plot(kind='bar', color = 'blue', alpha = 0.8)\n",
    "ax.set_xlabel('')\n",
    "ax.set_ylabel('CATEGORYWISE COUNT')\n",
    "ax.set()\n",
    "ax.yaxis.label.set_color('white')\n",
    "ax.xaxis.label.set_color('white')\n",
    "ax.tick_params(axis='x', colors='white',labelsize=12)\n",
    "ax.tick_params(axis='y', colors='white',labelsize=12)\n",
    "ax.tick_params(axis='y', colors='white')\n",
    "sns.despine()\n",
    "plt.xticks(rotation=0)\n",
    "plt.show()"
   ]
  },
  {
   "cell_type": "markdown",
   "id": "2ffd2a16",
   "metadata": {},
   "source": [
    "#### Category wise Median Funding Value"
   ]
  },
  {
   "cell_type": "markdown",
   "id": "8a2b6ec6",
   "metadata": {},
   "source": [
    "The below graph helps us to know the median funding value received by each of the classes (“Operating”, “Closed”, “Acquired”). My hypothesis is that the median funding value will be the highest for “Operating” category followed by “Acquired” and “Closed” categories. From the below graph we can see some interesting patterns such as\n",
    "\n",
    "- The median funding value received from Seed/ Angel investors is highest for “closed” category. I think angel investors might need to do a bit more research before investing in a startup. But we need to also keep in mind that “higher the risk higher the reward”.\n",
    "\n",
    "- The median funding value received from “round A”, “round B”, “round C”, “round D”, “post ipo equity”, “venture” and “undisclosed” funding is the highest for “acquired” category. Can we say that startups that receive high initial round funding’s will eventually be acquired by industry giants? Looking at the pattern I think that is what has happened.\n",
    "\n",
    "- The median funding value received from “round H” funding is zero for “closed” and “acquired” category."
   ]
  },
  {
   "cell_type": "code",
   "execution_count": 9,
   "id": "574d88f9",
   "metadata": {
    "scrolled": false
   },
   "outputs": [
    {
     "name": "stdout",
     "output_type": "stream",
     "text": [
      "['seed', 'venture', 'equity_crowdfunding', 'undisclosed', 'convertible_note', 'debt_financing', 'grant', 'private_equity', 'post_ipo_equity', 'post_ipo_debt', 'secondary_market', 'product_crowdfunding', 'round_A', 'round_B', 'round_C', 'round_D', 'round_E', 'round_F', 'round_G', 'round_H']\n"
     ]
    },
    {
     "data": {
      "image/png": "[encoded data removed]",
      "text/plain": [
       "<Figure size 1470x1470 with 20 Axes>"
      ]
     },
     "metadata": {},
     "output_type": "display_data"
    }
   ],
   "source": [
    "### Status VS Fundings ###\n",
    "\n",
    "print(LISTFUNDINGCOL)\n",
    "\n",
    "fig = plt.figure(figsize = (21,21), facecolor = 'black', dpi=70) \n",
    "\n",
    "for c,num in zip(LISTFUNDINGCOL, range(1,22)):\n",
    "  ax = fig.add_subplot(7,3,num)\n",
    "  x = np.random.rand()\n",
    "  y = np.random.rand()\n",
    "  z = np.random.rand()\n",
    "  ax =  df.groupby('status')[c].agg('mean').plot(kind='bar',alpha = .8, color=(x,y,z))\n",
    "\n",
    "  ax.set_xlabel('')\n",
    "  temp = 'Median \"' + c.replace('_',' ') + '\" value'\n",
    "  ax.set_ylabel(temp)\n",
    "  ax.set_title('')\n",
    "  ax.xaxis.label.set_color('white')\n",
    "  ax.yaxis.label.set_color('white')\n",
    "  ax.tick_params(axis='x', colors='white',labelsize=12)\n",
    "  ax.tick_params(axis='y', colors='white')\n",
    "  sns.despine()\n",
    "  plt.xticks(rotation=45)\n",
    "\n",
    "plt.tight_layout()\n",
    "plt.subplots_adjust(hspace=0.7, wspace = 0.5)"
   ]
  },
  {
   "cell_type": "markdown",
   "id": "089c41af",
   "metadata": {},
   "source": [
    "#### Feature Coorelation"
   ]
  },
  {
   "cell_type": "markdown",
   "id": "c2720ec4",
   "metadata": {},
   "source": [
    "Feature correlation helps us to know how two features are correlated with each other. Correlation magnitude tells us the strength of the relationship and correlation’s sign tells us the direction of the relationship.\n",
    "\n",
    "\n",
    "Random Forest classifier is not influenced by multi-collinearity since we randomly pick only a subset of features for building our tress in Random Forest model and hence, I have not treated multi-collinearity issue for this project. Just as a tip, generally you check for correlation between two columns and if it is above a certain threshold value you would drop any one of the highly correlated column."
   ]
  },
  {
   "cell_type": "code",
   "execution_count": 10,
   "id": "d47a7e63",
   "metadata": {},
   "outputs": [],
   "source": [
    "def funcHeatMap(funcpX, funcpY, funcpSize):\n",
    "  '''\n",
    "  This function creates a custom heatmap.\n",
    "  Please refer https://towardsdatascience.com/better-heatmaps-and-correlation-matrix-plots-in-python-41445d0f2bec for in depth explanation of this function.\n",
    "  '''\n",
    "\n",
    "  fig, ax = plt.subplots()\n",
    "  \n",
    "  # Mapping from column names to integer coordinates\n",
    "  x_labels = [v for v in sorted(funcpX.unique())]\n",
    "  y_labels = [v for v in sorted(funcpY.unique())]\n",
    "  x_to_num = {p[1]:p[0] for p in enumerate(x_labels)} \n",
    "  y_to_num = {p[1]:p[0] for p in enumerate(y_labels)} \n",
    "  \n",
    "  size_scale = 270\n",
    "  ax.scatter(\n",
    "      x=funcpX.map(x_to_num), # Use mapping for x\n",
    "      y=funcpY.map(y_to_num), # Use mapping for y\n",
    "      s=funcpSize * size_scale, # Vector of square sizes, proportional to size parameter \n",
    "      c='blue',\n",
    "      alpha=0.8,\n",
    "      marker='s' # Use square as scatterplot marker\n",
    "  )\n",
    "  \n",
    "  # Show column labels on the axes\n",
    "  ax.set_xticks([x_to_num[v] for v in x_labels])\n",
    "  listTempXLabel = [name.replace('_', ' ') for name in x_labels]\n",
    "  ax.set_xticklabels(listTempXLabel, rotation=90, horizontalalignment='right')\n",
    "  ax.set_yticks([y_to_num[v] for v in y_labels])\n",
    "  listTempYLabel = [name.replace('_', ' ') for name in y_labels]\n",
    "  ax.set_yticklabels(listTempYLabel)\n",
    "  ax.tick_params(axis='x', colors='white',labelsize=12)\n",
    "  ax.tick_params(axis='y', colors='white')\n",
    "  ax.grid(False, 'major')\n",
    "  ax.grid(True, 'minor')\n",
    "  ax.set_xticks([t + 0.5 for t in ax.get_xticks()], minor=True)\n",
    "  ax.set_yticks([t + 0.5 for t in ax.get_yticks()], minor=True)\n",
    "  ax.set_xlim([-0.5, max([v for v in x_to_num.values()]) + 0.5]) \n",
    "  ax.set_ylim([-0.5, max([v for v in y_to_num.values()]) + 0.5])"
   ]
  },
  {
   "cell_type": "markdown",
   "id": "47c3ffd6",
   "metadata": {},
   "source": [
    "The below custom heat-map takes only the strength into consideration"
   ]
  },
  {
   "cell_type": "code",
   "execution_count": 11,
   "id": "419491df",
   "metadata": {},
   "outputs": [
    {
     "data": {
      "image/png": "[encoded data removed]",
      "text/plain": [
       "<Figure size 864x576 with 1 Axes>"
      ]
     },
     "metadata": {},
     "output_type": "display_data"
    }
   ],
   "source": [
    "### Correlation HeatMap ###\n",
    "\n",
    "listTempCol = LISTFUNDINGCOL.copy()\n",
    "listTempCol.append('funding_rounds')\n",
    "corr = df[listTempCol].corr()\n",
    "corr = pd.melt(corr.reset_index(), id_vars='index') # Unpivot the dataframe, so we can get pair of arrays for x and y\n",
    "corr.columns = ['x', 'y', 'value']\n",
    "funcHeatMap(\n",
    "    funcpX=corr['x'],\n",
    "    funcpY=corr['y'],\n",
    "    funcpSize=corr['value'].abs()\n",
    ")"
   ]
  },
  {
   "cell_type": "markdown",
   "id": "4f980eb1",
   "metadata": {},
   "source": [
    "## Feature Engineering"
   ]
  },
  {
   "cell_type": "markdown",
   "id": "39aacdd2",
   "metadata": {},
   "source": [
    "#### Date Feature Variables"
   ]
  },
  {
   "cell_type": "markdown",
   "id": "ecd07180",
   "metadata": {},
   "source": [
    "While performing descriptive analysis (finding datatype, mean, median, max etc. of a feature variable) I found that date columns such as “founded_at”, “first_funding_at” etc. were of object datatype instead of date-time datatype and when I was trying to change the datatype I encountered few errors due to data anomaly which had to be addressed before changing its datatype."
   ]
  },
  {
   "cell_type": "markdown",
   "id": "a8296cd4",
   "metadata": {},
   "source": [
    "1. One of the records had the year as 1636 for “founded_at” feature variable and I have dropped this record (row) from our analysis since I am pretty sure that this might be a data entry mistake — I don’t think we will have information about a startup founded in the year 1636."
   ]
  },
  {
   "cell_type": "code",
   "execution_count": 12,
   "id": "024fbbb7",
   "metadata": {},
   "outputs": [
    {
     "name": "stdout",
     "output_type": "stream",
     "text": [
      "There are 1 record(s) whose year is 1636\n"
     ]
    }
   ],
   "source": [
    "### Found out while converting the object type to date type ###\n",
    "\n",
    "wrongDateCount = df.loc[df['founded_at'].str.contains('1636', na=False),].shape[0]\n",
    "print(f'There are {wrongDateCount} record(s) whose year is 1636')\n",
    "df = df.loc[~df['founded_at'].str.contains('1636', na=False),]"
   ]
  },
  {
   "cell_type": "markdown",
   "id": "44f80e1e",
   "metadata": {},
   "source": [
    "2. Few of the records in “first_funding_at” feature variable was in “00dd-mm-yy” format. The record needs to be in “dd-mm-yyyy” format for changing the datatype from object datatype to date-time datatype. "
   ]
  },
  {
   "cell_type": "code",
   "execution_count": 13,
   "id": "490226d4",
   "metadata": {},
   "outputs": [],
   "source": [
    "### Date preprocessing ###\n",
    "\n",
    "def funcDateManipulation(fncpDF, fncpColName, funcStartsWith='00'):\n",
    "    '''\n",
    "    The expected date format is yyyy-mm-dd but few of the dates are not in this format. This function changes the value to the / \n",
    "    specified format. The startsWith searches for all the dates that begin with 00 and modifies them into the required format.\n",
    "    \n",
    "    input: \n",
    "        DataFrame\n",
    "        (str) fncpColName, \n",
    "        (str) (optional) funcStartsWith\n",
    "    output: \n",
    "        None\n",
    "    '''\n",
    "    print(f'Processing column {fncpColName}....')\n",
    "    lstTemp = fncpDF.loc[fncpDF[fncpColName].str.startswith(funcStartsWith, na=False), [fncpColName]].values.tolist()\n",
    "    print(lstTemp)\n",
    "    for dte in lstTemp:\n",
    "        year = str(dte[0][-2:])\n",
    "        month = str(dte[0][5:7])\n",
    "        day = str(dte[0][2:4])\n",
    "        newDate = '20'+year+'-'+month+'-'+day\n",
    "        fncpDF.loc[fncpDF[fncpColName].str.contains(dte[0], na=False),[fncpColName]] = newDate\n",
    "    print(f'Sucessfully changed the date for {fncpColName} variable')"
   ]
  },
  {
   "cell_type": "code",
   "execution_count": 14,
   "id": "a686383f",
   "metadata": {
    "scrolled": false
   },
   "outputs": [
    {
     "name": "stdout",
     "output_type": "stream",
     "text": [
      "      first_funding_at\n",
      "23879       0007-05-13\n",
      "30079       0011-11-14\n",
      "\n",
      "\n",
      "Processing column first_funding_at....\n",
      "[['0007-05-13'], ['0011-11-14']]\n",
      "Sucessfully changed the date for first_funding_at variable\n",
      "\n",
      "\n",
      "Empty DataFrame\n",
      "Columns: [last_funding_at]\n",
      "Index: []\n",
      "\n",
      "\n",
      "Processing column last_funding_at....\n",
      "[]\n",
      "Sucessfully changed the date for last_funding_at variable\n"
     ]
    }
   ],
   "source": [
    "print(df.loc[df['first_funding_at'].str.startswith('00', na=False), ['first_funding_at']])\n",
    "print('\\n')\n",
    "funcDateManipulation(df, 'first_funding_at')\n",
    "print('\\n')\n",
    "print(df.loc[df['last_funding_at'].str.startswith('00', na=False), ['last_funding_at']])\n",
    "print('\\n')\n",
    "funcDateManipulation(df, 'last_funding_at')"
   ]
  },
  {
   "cell_type": "markdown",
   "id": "b5720c17",
   "metadata": {},
   "source": [
    "#### Market Feature Variable"
   ]
  },
  {
   "cell_type": "markdown",
   "id": "40eab287",
   "metadata": {},
   "source": [
    "1. The below block of code checks for missing values in the market variable and replaces the values as “Unknown”."
   ]
  },
  {
   "cell_type": "code",
   "execution_count": 15,
   "id": "89ccd98f",
   "metadata": {},
   "outputs": [
    {
     "name": "stdout",
     "output_type": "stream",
     "text": [
      "There are in total 2215 rows for which the market has NaN value\n"
     ]
    }
   ],
   "source": [
    "### Market variable ###\n",
    " \n",
    "df['market'] = df['market'].str.strip() \n",
    "market_na_values = df.loc[(df['market'].isna() == True),].shape[0]\n",
    "print(f'There are in total {market_na_values} rows for which the market has NaN value')\n",
    "df.loc[(df['market'].isna() == True),['market']] = 'Unknown' # Replacing NaN as UnKnown"
   ]
  },
  {
   "cell_type": "markdown",
   "id": "31bc0815",
   "metadata": {},
   "source": [
    "2. There are in total 735 unique values in “market” feature. The below block of code one-hot encodes only the top five, middle ten and bottom five most occurring categories out of the total 735 categories in the “market” feature and drops the original “market” feature from analysis."
   ]
  },
  {
   "cell_type": "code",
   "execution_count": 16,
   "id": "5259672b",
   "metadata": {
    "scrolled": false
   },
   "outputs": [
    {
     "data": {
      "text/plain": [
       "Software               3971\n",
       "Biotechnology          3423\n",
       "Unknown                2215\n",
       "Mobile                 1679\n",
       "E-Commerce             1403\n",
       "Curated Web            1316\n",
       "Enterprise Software    1115\n",
       "Health Care            1096\n",
       "Clean Technology       1033\n",
       "Hardware + Software     980\n",
       "Name: market, dtype: int64"
      ]
     },
     "execution_count": 16,
     "metadata": {},
     "output_type": "execute_result"
    }
   ],
   "source": [
    "df['market'].value_counts().head(10)"
   ]
  },
  {
   "cell_type": "markdown",
   "id": "d4c67f42",
   "metadata": {},
   "source": [
    "I have implemented this approach for this project and if you ask me why, I felt it makes more sense to just include the top, mid and bottom most occurring variables into my analysis since some of the unique categories have a value count of one."
   ]
  },
  {
   "cell_type": "code",
   "execution_count": 17,
   "id": "c586b539",
   "metadata": {},
   "outputs": [],
   "source": [
    "def funcCustomOneHotEncode(fncpDF, fncpColName,fncpTop=5, fncpBottom=5, fncpMiddle=10, fncpDropOriginal=True):\n",
    "    \n",
    "    '''\n",
    "    This function takes the fncpTop, fncpMiddledle and fncpBottom most occuring values in a feature and one hot encodes the values.\n",
    "    input: \n",
    "        DataFrame, \n",
    "        (str) Variable/Feature,\n",
    "        (int) (optional) fncpTop n categories, \n",
    "        (int) (optional) fncpBottom n categories, \n",
    "        (int) (optional) fncpMiddle n categories, \n",
    "        (bool) (optional) To drop original variable\n",
    "    output: \n",
    "        1 (Success) \n",
    "        -1 (Failure)\n",
    "    '''\n",
    "    \n",
    "    if fncpColName not in fncpDF.columns:\n",
    "        return -1\n",
    "    \n",
    "    uniqueMarketsCount = len(fncpDF[fncpColName].unique())\n",
    "    print(f'There are in total {uniqueMarketsCount} unique categories in {fncpColName} feature \\n')\n",
    "\n",
    "    # Top X\n",
    "    listfncpTopXCategories = []\n",
    "    listfncpTopXCategories = fncpDF[fncpColName].value_counts().sort_values(ascending = False).head(fncpTop).index.tolist()\n",
    "    if 'Unknown' in listfncpTopXCategories:\n",
    "        listfncpTopXCategories = fncpDF[fncpColName].value_counts().sort_values(ascending = False).head(fncpTop + 1).index.tolist()\n",
    "        listfncpTopXCategories.remove('Unknown') # Removing the 'Unknown' market since it is a imputed value\n",
    "    print(f'fncpTop {len(listfncpTopXCategories)} markets are:\\n ')\n",
    "    print({*listfncpTopXCategories}, sep = \", \")\n",
    "\n",
    "    # Mid X\n",
    "    listfncpMiddleXCategories = []\n",
    "    startPos = int(uniqueMarketsCount/2)\n",
    "    endPos = startPos + fncpMiddle\n",
    "    listfncpMiddleXCategories = fncpDF[fncpColName].value_counts().sort_values(ascending = True)[startPos:endPos].index.tolist()\n",
    "    if 'Unknown' in listfncpMiddleXCategories:\n",
    "        listfncpMiddleXCategories = fncpDF[fncpColName].value_counts().sort_values(ascending = True)[startPos:endPos + 1].index.tolist()        \n",
    "        listfncpMiddleXCategories.remove('Unknown') # Removing the 'Unknown' market since it is a imputed value\n",
    "    print(f'\\nfncpMiddle {len(listfncpMiddleXCategories)} markets are:\\n ')\n",
    "    print({*listfncpMiddleXCategories}, sep = \", \")\n",
    "\n",
    "    # Bottom X\n",
    "    listfncpBottomXCategories = []\n",
    "    listfncpBottomXCategories = fncpDF[fncpColName].value_counts().sort_values(ascending = True).head(fncpBottom).index.tolist()\n",
    "    if 'Unknown' in listfncpTopXCategories:\n",
    "        listfncpBottomXCategories = fncpDF[fncpColName].value_counts().sort_values(ascending = True).head(fncpBottom + 1).index.tolist()\n",
    "        listfncpBottomXCategories.remove('Unknown') # Removing the 'Unknown' market since it is a imputed value\n",
    "    print(f'\\nfncpBottom {len(listfncpBottomXCategories)} markets are:\\n ')\n",
    "    print({*listfncpBottomXCategories}, sep = \", \")\n",
    "\n",
    "    listFinalXCategories = listfncpTopXCategories + listfncpMiddleXCategories + listfncpBottomXCategories\n",
    "    for label in listFinalXCategories:\n",
    "      fncpDF['f_'+fncpColName+'_'+label] = np.where(fncpDF[fncpColName] == label,1,0)\n",
    "    \n",
    "    if fncpDropOriginal == True:\n",
    "        fncpDF.drop(fncpColName, axis=1, inplace=True)\n",
    "    print(f'Sucessfully implemented custom one hot encoding for {fncpColName} variable...')\n",
    "    return listFinalXCategories"
   ]
  },
  {
   "cell_type": "code",
   "execution_count": 18,
   "id": "613ca857",
   "metadata": {},
   "outputs": [
    {
     "name": "stdout",
     "output_type": "stream",
     "text": [
      "There are in total 735 unique categories in market feature \n",
      "\n",
      "fncpTop 5 markets are:\n",
      " \n",
      "{'E-Commerce', 'Mobile', 'Biotechnology', 'Curated Web', 'Software'}\n",
      "\n",
      "fncpMiddle 10 markets are:\n",
      " \n",
      "{'Content Creators', 'Unifed Communications', 'Textbooks', 'Tech Field Support', 'Social Bookmarking', 'Oil', 'Digital Signage', 'Polling', 'Mass Customization', 'QR Codes'}\n",
      "\n",
      "fncpBottom 5 markets are:\n",
      " \n",
      "{'Email Newsletters', 'Homeland Security', 'Motors', 'Local Commerce', 'Cable'}\n",
      "Sucessfully implemented custom one hot encoding for market variable...\n"
     ]
    }
   ],
   "source": [
    "### Market variable selecting only top 5, bottom 5 and mid 10 and one-hot encoding###\n",
    "\n",
    "market_variableOneHotCol = funcCustomOneHotEncode(df, 'market')"
   ]
  },
  {
   "cell_type": "markdown",
   "id": "c87f4e4d",
   "metadata": {},
   "source": [
    "#### Region variables"
   ]
  },
  {
   "cell_type": "markdown",
   "id": "5e092cf7",
   "metadata": {},
   "source": [
    "There are in total 111 unique values in “country_code” feature and there are in total 1030 unique values in “region” feature. The below block of code one-hot encodes only the top five, middle ten and bottom five most occurring categories in “country_code” feature variable and “region” feature variable and drops the original feature."
   ]
  },
  {
   "cell_type": "code",
   "execution_count": 19,
   "id": "b00dbe42",
   "metadata": {},
   "outputs": [
    {
     "data": {
      "text/plain": [
       "USA        24006\n",
       "Unknown     3663\n",
       "GBR         2242\n",
       "CAN         1113\n",
       "CHN          981\n",
       "FRA          751\n",
       "IND          630\n",
       "DEU          612\n",
       "ISR          597\n",
       "ESP          442\n",
       "Name: country_code, dtype: int64"
      ]
     },
     "execution_count": 19,
     "metadata": {},
     "output_type": "execute_result"
    }
   ],
   "source": [
    "df['country_code'].value_counts().head(10)"
   ]
  },
  {
   "cell_type": "code",
   "execution_count": 20,
   "id": "76abf536",
   "metadata": {
    "scrolled": true
   },
   "outputs": [
    {
     "name": "stdout",
     "output_type": "stream",
     "text": [
      "There are in total 111 unique categories in country_code feature \n",
      "\n",
      "fncpTop 5 markets are:\n",
      " \n",
      "{'FRA', 'GBR', 'USA', 'CAN', 'CHN'}\n",
      "\n",
      "fncpMiddle 10 markets are:\n",
      " \n",
      "{'KEN', 'DZA', 'PER', 'NGA', 'LUX', 'PHL', 'EGY', 'ROM', 'COL', 'LTU'}\n",
      "\n",
      "fncpBottom 5 markets are:\n",
      " \n",
      "{'SOM', 'OMN', 'MUS', 'MKD', 'CIV'}\n",
      "Sucessfully implemented custom one hot encoding for country_code variable...\n"
     ]
    }
   ],
   "source": [
    "### country_code variable selecting only top 5, bottom 5 and mid 10 and one-hot encoding###\n",
    "\n",
    "country_code_variableOneHotCol = funcCustomOneHotEncode(df, 'country_code')"
   ]
  },
  {
   "cell_type": "code",
   "execution_count": 21,
   "id": "2c8141f3",
   "metadata": {},
   "outputs": [
    {
     "data": {
      "text/plain": [
       "SF Bay Area         5897\n",
       "Unknown             3663\n",
       "New York City       2188\n",
       "Boston              1670\n",
       "London              1326\n",
       "Los Angeles         1125\n",
       "Seattle              824\n",
       "Washington, D.C.     683\n",
       "San Diego            615\n",
       "Chicago              614\n",
       "Name: region, dtype: int64"
      ]
     },
     "execution_count": 21,
     "metadata": {},
     "output_type": "execute_result"
    }
   ],
   "source": [
    "df['region'].value_counts().head(10)"
   ]
  },
  {
   "cell_type": "code",
   "execution_count": 22,
   "id": "42866eb6",
   "metadata": {},
   "outputs": [
    {
     "name": "stdout",
     "output_type": "stream",
     "text": [
      "There are in total 1030 unique categories in region feature \n",
      "\n",
      "fncpTop 5 markets are:\n",
      " \n",
      "{'Boston', 'New York City', 'SF Bay Area', 'Los Angeles', 'London'}\n",
      "\n",
      "fncpMiddle 10 markets are:\n",
      " \n",
      "{'Essex', 'Zhengzhou', 'Martinsried', 'Northampton', 'Warwick', 'Vejle', 'Dortmund', 'Medellin', 'Orsay', 'Westmount'}\n",
      "\n",
      "fncpBottom 5 markets are:\n",
      " \n",
      "{'Monheim', 'Tarragona', 'Terni', 'Cordoba', 'Thiruvananthapuram'}\n",
      "Sucessfully implemented custom one hot encoding for region variable...\n"
     ]
    }
   ],
   "source": [
    "### region variable selecting only top 5, bottom 5 and mid 10 and one-hot encoding###\n",
    "\n",
    "region_variableOneHotCol = funcCustomOneHotEncode(df, 'region')"
   ]
  },
  {
   "cell_type": "markdown",
   "id": "3a835548",
   "metadata": {},
   "source": [
    "#### Funding Rounds"
   ]
  },
  {
   "cell_type": "markdown",
   "id": "def1738a",
   "metadata": {},
   "source": [
    "There were **15868 records** for which the actual number of funding rounds raised by an startup did not match the “funding_rounds” feature value Ex: If a startup had raised funds from “seed” funding, “venture” funding and “round A” funding, then the “funding_rounds” value for this startup needs to be three but in some cases the value was not three and the below block of code helps us to resolve this issue."
   ]
  },
  {
   "cell_type": "code",
   "execution_count": 23,
   "id": "6a0bd01c",
   "metadata": {},
   "outputs": [],
   "source": [
    "def funcColumnsToDrop(data, drop_list = []):\n",
    "    \n",
    "    '''\n",
    "    This function drops a list of column(s) in the dataframe and returns the new unique columns in the dataframe\n",
    "    input: Dataframe, list of coulumns to drop\n",
    "    output: list of new columns (Sucess) / -1 (Failure)\n",
    "    '''\n",
    "    \n",
    "    if len(drop_list) > 0 and set(drop_list).issubset(data.columns):\n",
    "        data.drop(drop_list, axis=1, inplace=True) \n",
    "        return data.columns\n",
    "    else:\n",
    "        print('No columns to drop or one of the columns present in the list is not available in the dataframe')\n",
    "        return -1"
   ]
  },
  {
   "cell_type": "code",
   "execution_count": 24,
   "id": "44516e38",
   "metadata": {},
   "outputs": [
    {
     "name": "stdout",
     "output_type": "stream",
     "text": [
      "The list of variables associated with funding are \n",
      " ['seed', 'venture', 'equity_crowdfunding', 'undisclosed', 'convertible_note', 'debt_financing', 'grant', 'private_equity', 'post_ipo_equity', 'post_ipo_debt', 'secondary_market', 'product_crowdfunding', 'round_A', 'round_B', 'round_C', 'round_D', 'round_E', 'round_F', 'round_G', 'round_H']\n",
      "\n",
      "There are 15868 rows whose to funding rounds do not match with the actual funding rounds\n"
     ]
    }
   ],
   "source": [
    "### Correcting total funding_rounds ###\n",
    "\n",
    "lstCol = ['seed', 'venture', 'equity_crowdfunding', 'undisclosed', \n",
    "       'convertible_note', 'debt_financing', 'grant', 'private_equity', 'post_ipo_equity', \n",
    "       'post_ipo_debt', 'secondary_market', 'product_crowdfunding', 'round_A', 'round_B', \n",
    "       'round_C', 'round_D', 'round_E', 'round_F', 'round_G', 'round_H']\n",
    "    \n",
    "print('The list of variables associated with funding are \\n', LISTFUNDINGCOL)\n",
    "df['r_Count']=df.loc[:,lstCol].ge(1).sum(axis=1) # Counts the value across the rows only if the value is greater than 1 only\n",
    "incorrectcount = df.loc[df['r_Count'] != df['funding_rounds'], ['r_Count', 'funding_rounds']].shape[0]\n",
    "print(f'\\nThere are {incorrectcount} rows whose to funding rounds do not match with the actual funding rounds')\n",
    "df['funding_rounds'] = df['r_Count']\n",
    "\n",
    "lstDropColumns = ['r_Count']\n",
    "LISTCOLUMNNAME = funcColumnsToDrop(df, lstDropColumns)"
   ]
  },
  {
   "cell_type": "markdown",
   "id": "8284cbe9",
   "metadata": {},
   "source": [
    "#### Handling Outliers"
   ]
  },
  {
   "cell_type": "markdown",
   "id": "43e9e916",
   "metadata": {},
   "source": [
    "Outliers are extreme values in a feature and they are of two types\n",
    "\n",
    "1. Genuine outliers Ex: While analyzing sales transaction you might encounter a high sale value transaction that was made by a customer who is into wholesale business. This needs to be treated as a genuine outlier and we need to separate all such transactions and build a separate model for them .\n",
    "\n",
    "2. Unreal outliers Ex: Error in data due to data entry error, sensor error, calculation error etc. These records need to be dropped from our analysis or their values need to be capped or imputed.\n",
    "\n",
    "One of the advantages of Random Forest is that this model is not affected by outliers since Random Forests uses trees that split the data into groups (repeatedly) according to whether a case is above or below a selected threshold value — hence it does not matter how much higher or lower an value is than the threshold value. Please do remember that few of the models such as regression models and distance-based models such as KNN algorithm are highly influenced by outliers.\n",
    "\n",
    "Just for demonstration purpose the below block of code helps to impute the lower extreme value to be the same as the first quantile value and the higher extreme value to be the same as the third quantile value. Surprisingly, there were no outliers in this data set."
   ]
  },
  {
   "cell_type": "code",
   "execution_count": 25,
   "id": "789df56b",
   "metadata": {},
   "outputs": [
    {
     "name": "stdout",
     "output_type": "stream",
     "text": [
      "Rows affected (LowerQuantile Value, UpperQuantlie Value, LowerQuantlie Rows, Upperquantile Rows)\n",
      "\n",
      " {'funding_rounds': (1.0, 2.0, 0, 0), 'founded_year': (2005.0, 2012.0, 0, 0), 'seed': (0.0, 191876.0, 0, 0), 'venture': (0.0, 7000000.0, 0, 0), 'equity_crowdfunding': (0.0, 0.0, 0, 0), 'undisclosed': (0.0, 0.0, 0, 0), 'convertible_note': (0.0, 0.0, 0, 0), 'debt_financing': (0.0, 0.0, 0, 0), 'grant': (0.0, 0.0, 0, 0), 'private_equity': (0.0, 0.0, 0, 0), 'post_ipo_equity': (0.0, 0.0, 0, 0), 'post_ipo_debt': (0.0, 0.0, 0, 0), 'secondary_market': (0.0, 0.0, 0, 0), 'product_crowdfunding': (0.0, 0.0, 0, 0), 'round_A': (0.0, 0.0, 0, 0), 'round_B': (0.0, 0.0, 0, 0), 'round_C': (0.0, 0.0, 0, 0), 'round_D': (0.0, 0.0, 0, 0), 'round_E': (0.0, 0.0, 0, 0), 'round_F': (0.0, 0.0, 0, 0), 'round_G': (0.0, 0.0, 0, 0), 'round_H': (0.0, 0.0, 0, 0), 'f_SumCol': (257592.0, 14000000.0, 0, 0), 'f_market_Software': (0.0, 0.0, 0, 0), 'f_market_Biotechnology': (0.0, 0.0, 0, 0), 'f_market_Mobile': (0.0, 0.0, 0, 0), 'f_market_E-Commerce': (0.0, 0.0, 0, 0), 'f_market_Curated Web': (0.0, 0.0, 0, 0), 'f_market_Social Bookmarking': (0.0, 0.0, 0, 0), 'f_market_Oil': (0.0, 0.0, 0, 0), 'f_market_Unifed Communications': (0.0, 0.0, 0, 0), 'f_market_Content Creators': (0.0, 0.0, 0, 0), 'f_market_QR Codes': (0.0, 0.0, 0, 0), 'f_market_Digital Signage': (0.0, 0.0, 0, 0), 'f_market_Polling': (0.0, 0.0, 0, 0), 'f_market_Tech Field Support': (0.0, 0.0, 0, 0), 'f_market_Mass Customization': (0.0, 0.0, 0, 0), 'f_market_Textbooks': (0.0, 0.0, 0, 0), 'f_market_Homeland Security': (0.0, 0.0, 0, 0), 'f_market_Local Commerce': (0.0, 0.0, 0, 0), 'f_market_Motors': (0.0, 0.0, 0, 0), 'f_market_Email Newsletters': (0.0, 0.0, 0, 0), 'f_market_Cable': (0.0, 0.0, 0, 0), 'f_country_code_USA': (0.0, 1.0, 0, 0), 'f_country_code_GBR': (0.0, 0.0, 0, 0), 'f_country_code_CAN': (0.0, 0.0, 0, 0), 'f_country_code_CHN': (0.0, 0.0, 0, 0), 'f_country_code_FRA': (0.0, 0.0, 0, 0), 'f_country_code_EGY': (0.0, 0.0, 0, 0), 'f_country_code_LUX': (0.0, 0.0, 0, 0), 'f_country_code_NGA': (0.0, 0.0, 0, 0), 'f_country_code_KEN': (0.0, 0.0, 0, 0), 'f_country_code_DZA': (0.0, 0.0, 0, 0), 'f_country_code_PER': (0.0, 0.0, 0, 0), 'f_country_code_ROM': (0.0, 0.0, 0, 0), 'f_country_code_LTU': (0.0, 0.0, 0, 0), 'f_country_code_PHL': (0.0, 0.0, 0, 0), 'f_country_code_COL': (0.0, 0.0, 0, 0), 'f_country_code_OMN': (0.0, 0.0, 0, 0), 'f_country_code_SOM': (0.0, 0.0, 0, 0), 'f_country_code_MKD': (0.0, 0.0, 0, 0), 'f_country_code_MUS': (0.0, 0.0, 0, 0), 'f_country_code_CIV': (0.0, 0.0, 0, 0), 'f_region_SF Bay Area': (0.0, 0.0, 0, 0), 'f_region_New York City': (0.0, 0.0, 0, 0), 'f_region_Boston': (0.0, 0.0, 0, 0), 'f_region_London': (0.0, 0.0, 0, 0), 'f_region_Los Angeles': (0.0, 0.0, 0, 0), 'f_region_Zhengzhou': (0.0, 0.0, 0, 0), 'f_region_Martinsried': (0.0, 0.0, 0, 0), 'f_region_Medellin': (0.0, 0.0, 0, 0), 'f_region_Warwick': (0.0, 0.0, 0, 0), 'f_region_Westmount': (0.0, 0.0, 0, 0), 'f_region_Orsay': (0.0, 0.0, 0, 0), 'f_region_Vejle': (0.0, 0.0, 0, 0), 'f_region_Northampton': (0.0, 0.0, 0, 0), 'f_region_Dortmund': (0.0, 0.0, 0, 0), 'f_region_Essex': (0.0, 0.0, 0, 0), 'f_region_Tarragona': (0.0, 0.0, 0, 0), 'f_region_Thiruvananthapuram': (0.0, 0.0, 0, 0), 'f_region_Terni': (0.0, 0.0, 0, 0), 'f_region_Monheim': (0.0, 0.0, 0, 0), 'f_region_Cordoba': (0.0, 0.0, 0, 0)}\n"
     ]
    }
   ],
   "source": [
    "### Handling outliers if any exist in int and float datatypes ###\n",
    "\n",
    "dictOutlierTuple = {}\n",
    "\n",
    "for col in df.columns:\n",
    "    if (((df[col].dtype)=='float64') | ((df[col].dtype)=='int64')):\n",
    "        percentiles = df[col].quantile([.25, .75]).values\n",
    "        lowerQuantileValue = percentiles[0]\n",
    "        upperQuantileValue = percentiles[1]\n",
    "        df.loc[df[col] < lowerQuantileValue,col] = lowerQuantileValue\n",
    "        lowCount = df.loc[df[col] < lowerQuantileValue,col].shape[0]\n",
    "        df.loc[df[col] > upperQuantileValue, col] = upperQuantileValue\n",
    "        highCount = df.loc[df[col] > upperQuantileValue, col].shape[0]\n",
    "        dictOutlierTuple[col] = (lowerQuantileValue, upperQuantileValue, lowCount, highCount)\n",
    "print(f'Rows affected (LowerQuantile Value, UpperQuantlie Value, LowerQuantlie Rows, Upperquantile Rows)\\n\\n {dictOutlierTuple}')"
   ]
  },
  {
   "cell_type": "code",
   "execution_count": 26,
   "id": "b92497e5",
   "metadata": {},
   "outputs": [
    {
     "data": {
      "text/plain": [
       "{'funding_rounds': (1.0, 2.0, 0, 0),\n",
       " 'founded_year': (2005.0, 2012.0, 0, 0),\n",
       " 'seed': (0.0, 191876.0, 0, 0),\n",
       " 'venture': (0.0, 7000000.0, 0, 0),\n",
       " 'equity_crowdfunding': (0.0, 0.0, 0, 0),\n",
       " 'undisclosed': (0.0, 0.0, 0, 0),\n",
       " 'convertible_note': (0.0, 0.0, 0, 0),\n",
       " 'debt_financing': (0.0, 0.0, 0, 0),\n",
       " 'grant': (0.0, 0.0, 0, 0),\n",
       " 'private_equity': (0.0, 0.0, 0, 0),\n",
       " 'post_ipo_equity': (0.0, 0.0, 0, 0),\n",
       " 'post_ipo_debt': (0.0, 0.0, 0, 0),\n",
       " 'secondary_market': (0.0, 0.0, 0, 0),\n",
       " 'product_crowdfunding': (0.0, 0.0, 0, 0),\n",
       " 'round_A': (0.0, 0.0, 0, 0),\n",
       " 'round_B': (0.0, 0.0, 0, 0),\n",
       " 'round_C': (0.0, 0.0, 0, 0),\n",
       " 'round_D': (0.0, 0.0, 0, 0),\n",
       " 'round_E': (0.0, 0.0, 0, 0),\n",
       " 'round_F': (0.0, 0.0, 0, 0),\n",
       " 'round_G': (0.0, 0.0, 0, 0),\n",
       " 'round_H': (0.0, 0.0, 0, 0),\n",
       " 'f_SumCol': (257592.0, 14000000.0, 0, 0),\n",
       " 'f_market_Software': (0.0, 0.0, 0, 0),\n",
       " 'f_market_Biotechnology': (0.0, 0.0, 0, 0),\n",
       " 'f_market_Mobile': (0.0, 0.0, 0, 0),\n",
       " 'f_market_E-Commerce': (0.0, 0.0, 0, 0),\n",
       " 'f_market_Curated Web': (0.0, 0.0, 0, 0),\n",
       " 'f_market_Social Bookmarking': (0.0, 0.0, 0, 0),\n",
       " 'f_market_Oil': (0.0, 0.0, 0, 0),\n",
       " 'f_market_Unifed Communications': (0.0, 0.0, 0, 0),\n",
       " 'f_market_Content Creators': (0.0, 0.0, 0, 0),\n",
       " 'f_market_QR Codes': (0.0, 0.0, 0, 0),\n",
       " 'f_market_Digital Signage': (0.0, 0.0, 0, 0),\n",
       " 'f_market_Polling': (0.0, 0.0, 0, 0),\n",
       " 'f_market_Tech Field Support': (0.0, 0.0, 0, 0),\n",
       " 'f_market_Mass Customization': (0.0, 0.0, 0, 0),\n",
       " 'f_market_Textbooks': (0.0, 0.0, 0, 0),\n",
       " 'f_market_Homeland Security': (0.0, 0.0, 0, 0),\n",
       " 'f_market_Local Commerce': (0.0, 0.0, 0, 0),\n",
       " 'f_market_Motors': (0.0, 0.0, 0, 0),\n",
       " 'f_market_Email Newsletters': (0.0, 0.0, 0, 0),\n",
       " 'f_market_Cable': (0.0, 0.0, 0, 0),\n",
       " 'f_country_code_USA': (0.0, 1.0, 0, 0),\n",
       " 'f_country_code_GBR': (0.0, 0.0, 0, 0),\n",
       " 'f_country_code_CAN': (0.0, 0.0, 0, 0),\n",
       " 'f_country_code_CHN': (0.0, 0.0, 0, 0),\n",
       " 'f_country_code_FRA': (0.0, 0.0, 0, 0),\n",
       " 'f_country_code_EGY': (0.0, 0.0, 0, 0),\n",
       " 'f_country_code_LUX': (0.0, 0.0, 0, 0),\n",
       " 'f_country_code_NGA': (0.0, 0.0, 0, 0),\n",
       " 'f_country_code_KEN': (0.0, 0.0, 0, 0),\n",
       " 'f_country_code_DZA': (0.0, 0.0, 0, 0),\n",
       " 'f_country_code_PER': (0.0, 0.0, 0, 0),\n",
       " 'f_country_code_ROM': (0.0, 0.0, 0, 0),\n",
       " 'f_country_code_LTU': (0.0, 0.0, 0, 0),\n",
       " 'f_country_code_PHL': (0.0, 0.0, 0, 0),\n",
       " 'f_country_code_COL': (0.0, 0.0, 0, 0),\n",
       " 'f_country_code_OMN': (0.0, 0.0, 0, 0),\n",
       " 'f_country_code_SOM': (0.0, 0.0, 0, 0),\n",
       " 'f_country_code_MKD': (0.0, 0.0, 0, 0),\n",
       " 'f_country_code_MUS': (0.0, 0.0, 0, 0),\n",
       " 'f_country_code_CIV': (0.0, 0.0, 0, 0),\n",
       " 'f_region_SF Bay Area': (0.0, 0.0, 0, 0),\n",
       " 'f_region_New York City': (0.0, 0.0, 0, 0),\n",
       " 'f_region_Boston': (0.0, 0.0, 0, 0),\n",
       " 'f_region_London': (0.0, 0.0, 0, 0),\n",
       " 'f_region_Los Angeles': (0.0, 0.0, 0, 0),\n",
       " 'f_region_Zhengzhou': (0.0, 0.0, 0, 0),\n",
       " 'f_region_Martinsried': (0.0, 0.0, 0, 0),\n",
       " 'f_region_Medellin': (0.0, 0.0, 0, 0),\n",
       " 'f_region_Warwick': (0.0, 0.0, 0, 0),\n",
       " 'f_region_Westmount': (0.0, 0.0, 0, 0),\n",
       " 'f_region_Orsay': (0.0, 0.0, 0, 0),\n",
       " 'f_region_Vejle': (0.0, 0.0, 0, 0),\n",
       " 'f_region_Northampton': (0.0, 0.0, 0, 0),\n",
       " 'f_region_Dortmund': (0.0, 0.0, 0, 0),\n",
       " 'f_region_Essex': (0.0, 0.0, 0, 0),\n",
       " 'f_region_Tarragona': (0.0, 0.0, 0, 0),\n",
       " 'f_region_Thiruvananthapuram': (0.0, 0.0, 0, 0),\n",
       " 'f_region_Terni': (0.0, 0.0, 0, 0),\n",
       " 'f_region_Monheim': (0.0, 0.0, 0, 0),\n",
       " 'f_region_Cordoba': (0.0, 0.0, 0, 0)}"
      ]
     },
     "execution_count": 26,
     "metadata": {},
     "output_type": "execute_result"
    }
   ],
   "source": [
    "dictOutlierTuple"
   ]
  },
  {
   "cell_type": "markdown",
   "id": "31c1aed0",
   "metadata": {},
   "source": [
    "#### Category Lists"
   ]
  },
  {
   "cell_type": "markdown",
   "id": "79fcba57",
   "metadata": {},
   "source": [
    "“Category_list” variable tells the list of categories under which a startup fall. Since this variable is of object data type, we need to change it into numerical datatype. One approach would be to split the list and one hot encode the values and the other approach is to simply check if a startup falls in a single category or multiple categories and accordingly create a new binary feature which tells whether the startup belongs to a single category or multiple categories. I have taken the later approach since I want to avoid curse of dimensionality and also to show other approaches that can be taken for dealing features that are of object datatype."
   ]
  },
  {
   "cell_type": "markdown",
   "id": "9f4732d1",
   "metadata": {},
   "source": [
    "The below block of code creates a new binary feature to tell whether a startup belongs to single category or multiple categories."
   ]
  },
  {
   "cell_type": "code",
   "execution_count": 27,
   "id": "2c5e4711",
   "metadata": {},
   "outputs": [],
   "source": [
    "### Replaces NaN with single pipe and then checks the number of pipes in the string. If greater than two multi category \n",
    "### is marked as 1 and if not marked as 0.\n",
    "\n",
    "df.loc[df['category_list'].isna() == True,['category_list']] = '|'\n",
    "df['f_Multi_Category'] = [1 if x.count('|') > 2 else 0 for x in df['category_list']] \n",
    "\n",
    "lstDropColumns = ['category_list'] \n",
    "LISTCOLUMNNAME = funcColumnsToDrop(df, lstDropColumns)"
   ]
  },
  {
   "cell_type": "markdown",
   "id": "f06f966c",
   "metadata": {},
   "source": [
    "#### Homepage URL"
   ]
  },
  {
   "cell_type": "markdown",
   "id": "278940c2",
   "metadata": {},
   "source": [
    "Earlier I had explained regarding extracting domain information from the website to know the intended purpose of a startup but for this project since we already have some basic information such as market to which the startup caters to and region to which an startup belongs to, I have simply created a binary feature that tells whether a startup has a website associated with it or not. Just as a tip we can also check how long does it take to load the startup’s website which might give us some light about the quality of their developer team."
   ]
  },
  {
   "cell_type": "code",
   "execution_count": 28,
   "id": "5ddcf8ea",
   "metadata": {},
   "outputs": [],
   "source": [
    "df.loc[df['homepage_url'].isna() == True,['homepage_url']] = 'NAN'\n",
    "df['f_URL'] = [1 if len(x) > 3 else 0 for x in df['homepage_url']]\n",
    "\n",
    "lstDropColumns = ['homepage_url'] \n",
    "LISTCOLUMNNAME = funcColumnsToDrop(df, lstDropColumns)"
   ]
  },
  {
   "cell_type": "code",
   "execution_count": 29,
   "id": "f27d84e5",
   "metadata": {},
   "outputs": [
    {
     "data": {
      "text/plain": [
       "0        1\n",
       "1        1\n",
       "2        1\n",
       "3        1\n",
       "4        0\n",
       "        ..\n",
       "39797    1\n",
       "39798    1\n",
       "39799    1\n",
       "39800    1\n",
       "39801    1\n",
       "Name: f_URL, Length: 39801, dtype: int64"
      ]
     },
     "execution_count": 29,
     "metadata": {},
     "output_type": "execute_result"
    }
   ],
   "source": [
    "df['f_URL']"
   ]
  },
  {
   "cell_type": "markdown",
   "id": "3dd07a38",
   "metadata": {},
   "source": [
    "#### Year Related Columns"
   ]
  },
  {
   "cell_type": "markdown",
   "id": "e7b4001a",
   "metadata": {},
   "source": [
    "We can generate some useful features (derived features) using the date-time feature variables which might help our model to precisely classify a target variable"
   ]
  },
  {
   "cell_type": "code",
   "execution_count": 30,
   "id": "06daf8d3",
   "metadata": {},
   "outputs": [
    {
     "name": "stdout",
     "output_type": "stream",
     "text": [
      "Empty DataFrame\n",
      "Columns: [founded_at, founded_month]\n",
      "Index: []\n",
      "\n",
      "\n",
      "Empty DataFrame\n",
      "Columns: [founded_at, founded_quarter]\n",
      "Index: []\n",
      "\n",
      "\n",
      "Empty DataFrame\n",
      "Columns: [founded_at, founded_year]\n",
      "Index: []\n"
     ]
    }
   ],
   "source": [
    "### Checking to impute founded year using the other coulmns\n",
    "\n",
    "print(df.loc[((df['founded_month'].isna() == False) & (df['founded_at'].isna() == True)) ,['founded_at','founded_month']])\n",
    "print('\\n')\n",
    "print(df.loc[((df['founded_quarter'].isna() == False) & (df['founded_at'].isna() == True)) ,['founded_at', 'founded_quarter']])\n",
    "print('\\n')\n",
    "print(df.loc[((df['founded_year'].isna() == False) & (df['founded_at'].isna() == True)) ,['founded_at', 'founded_year']])"
   ]
  },
  {
   "cell_type": "markdown",
   "id": "19aeed7e",
   "metadata": {},
   "source": [
    "1. The below block of code calculates the age of a startup and removes all the startups whose age is greater than 30 years or less than zero. I have included this age condition because even if we hold data about a startup that is more than 30 years old, I think it won’t be relevant to include those startups for our model building to predict the status of a startup that was established recently."
   ]
  },
  {
   "cell_type": "code",
   "execution_count": 31,
   "id": "83bafddf",
   "metadata": {},
   "outputs": [
    {
     "name": "stdout",
     "output_type": "stream",
     "text": [
      "There are 881 whose age is greater than 30 or less than zero\n"
     ]
    }
   ],
   "source": [
    "### Calculating the age of the company and removing all the companies whose age is greater than 30 years\n",
    "\n",
    "df['r_first_funding_year'] = pd.DatetimeIndex(df['first_funding_at']).year\n",
    "df['r_last_funding_year'] = pd.DatetimeIndex(df['last_funding_at']).year\n",
    "df['r_founded_year'] = pd.DatetimeIndex(df['founded_at']).year\n",
    "\n",
    "df['r_diff'] = df['r_first_funding_year'] - df['r_founded_year']\n",
    "df['r_diff_mean'] = round(df['r_diff'].mean(skipna=True),0)\n",
    "df.loc[df['r_founded_year'].isna() == True,['r_founded_year']] = df['r_first_funding_year'] - df['r_diff_mean']\n",
    "\n",
    "df['f_age'] = 2021 - df['r_founded_year']\n",
    "ageCondRows = df.loc[((df['f_age'] > 30) | (df['f_age'] < 0)),].shape[0]\n",
    "print(f'There are {ageCondRows} whose age is greater than 30 or less than zero')\n",
    "df = df.loc[((df['f_age'] <= 30) & (df['f_age'] >= 0)),]"
   ]
  },
  {
   "cell_type": "markdown",
   "id": "d2aeb2a4",
   "metadata": {},
   "source": [
    "2. The below block of code\n",
    "\n",
    "- First changes the value of “r_first_funding_year” feature variable (a temporary feature that was created by extracting the year part from “first_funding_at” feature) to be the same as “r_founded_year” feature variable (a temporary feature that was created by extracting the year part from “founded_year” feature) for all the records whose “r_first_funding_year” was less than “r_founded_year” — I don’t think a startup can raise funds before it was established.\n",
    "\n",
    "- Second creates a new feature that gives us the number of years it took for the startup to raise its first funding."
   ]
  },
  {
   "cell_type": "code",
   "execution_count": 32,
   "id": "9160bbaf",
   "metadata": {},
   "outputs": [],
   "source": [
    "### Changing the 'first funding year' whose value is less than 'founded year' to be the same as 'founded year' ###\n",
    "\n",
    "df.loc[df['r_first_funding_year'] < df['r_founded_year'],['r_first_funding_year']] = df['r_founded_year']\n",
    "df['f_yearstoFirstFunding'] = df['r_first_funding_year'] - df['r_founded_year']"
   ]
  },
  {
   "cell_type": "markdown",
   "id": "c73e7bc7",
   "metadata": {},
   "source": [
    "3. The below block of code\n",
    "\n",
    "- First changes the value of “r_last_funding_year” (a temporary feature that was created by extracting the year part from “last_funding_at” feature) to be the same as “r_first_funding_year” for all the records whose “r_last_funding_year” was less than “r_first_funding_year” — logically the last funding year should be later to first funding year.\n",
    "\n",
    "- Second creates a new feature that gives us the number of years between the first funding year and last funding year.\n"
   ]
  },
  {
   "cell_type": "code",
   "execution_count": 33,
   "id": "595131e8",
   "metadata": {},
   "outputs": [],
   "source": [
    "### Changing the 'last funding year' whose value is less than 'first funding year' to be the same as 'first funding year' ###\n",
    "\n",
    "df.loc[df['r_last_funding_year'] < df['r_first_funding_year'] ,['r_last_funding_year']] = df['r_first_funding_year']\n",
    "df['f_FirstFundingToLastFunding'] = df['r_last_funding_year'] - df['r_first_funding_year']"
   ]
  },
  {
   "cell_type": "code",
   "execution_count": 34,
   "id": "f402d44c",
   "metadata": {},
   "outputs": [],
   "source": [
    "### Dropping columns related to dates ###\n",
    "\n",
    "lstDropColumns = ['r_first_funding_year', 'r_last_funding_year', 'r_founded_year', 'r_diff', 'r_diff_mean', 'founded_at', 'founded_at', 'founded_month',\n",
    "       'founded_quarter', 'founded_year', 'first_funding_at','last_funding_at']\n",
    "LISTCOLUMNNAME = funcColumnsToDrop(df, lstDropColumns)"
   ]
  },
  {
   "cell_type": "code",
   "execution_count": 35,
   "id": "0850a871",
   "metadata": {},
   "outputs": [
    {
     "name": "stdout",
     "output_type": "stream",
     "text": [
      "<class 'pandas.core.frame.DataFrame'>\n",
      "Int64Index: 38920 entries, 0 to 39801\n",
      "Data columns (total 88 columns):\n",
      " #   Column                          Non-Null Count  Dtype  \n",
      "---  ------                          --------------  -----  \n",
      " 0   status                          38920 non-null  object \n",
      " 1   funding_rounds                  38920 non-null  float64\n",
      " 2   seed                            38920 non-null  float64\n",
      " 3   venture                         38920 non-null  float64\n",
      " 4   equity_crowdfunding             38920 non-null  float64\n",
      " 5   undisclosed                     38920 non-null  float64\n",
      " 6   convertible_note                38920 non-null  float64\n",
      " 7   debt_financing                  38920 non-null  float64\n",
      " 8   grant                           38920 non-null  float64\n",
      " 9   private_equity                  38920 non-null  float64\n",
      " 10  post_ipo_equity                 38920 non-null  float64\n",
      " 11  post_ipo_debt                   38920 non-null  float64\n",
      " 12  secondary_market                38920 non-null  float64\n",
      " 13  product_crowdfunding            38920 non-null  float64\n",
      " 14  round_A                         38920 non-null  float64\n",
      " 15  round_B                         38920 non-null  float64\n",
      " 16  round_C                         38920 non-null  float64\n",
      " 17  round_D                         38920 non-null  float64\n",
      " 18  round_E                         38920 non-null  float64\n",
      " 19  round_F                         38920 non-null  float64\n",
      " 20  round_G                         38920 non-null  float64\n",
      " 21  round_H                         38920 non-null  float64\n",
      " 22  f_SumCol                        38920 non-null  float64\n",
      " 23  f_market_Software               38920 non-null  float64\n",
      " 24  f_market_Biotechnology          38920 non-null  float64\n",
      " 25  f_market_Mobile                 38920 non-null  float64\n",
      " 26  f_market_E-Commerce             38920 non-null  float64\n",
      " 27  f_market_Curated Web            38920 non-null  float64\n",
      " 28  f_market_Social Bookmarking     38920 non-null  float64\n",
      " 29  f_market_Oil                    38920 non-null  float64\n",
      " 30  f_market_Unifed Communications  38920 non-null  float64\n",
      " 31  f_market_Content Creators       38920 non-null  float64\n",
      " 32  f_market_QR Codes               38920 non-null  float64\n",
      " 33  f_market_Digital Signage        38920 non-null  float64\n",
      " 34  f_market_Polling                38920 non-null  float64\n",
      " 35  f_market_Tech Field Support     38920 non-null  float64\n",
      " 36  f_market_Mass Customization     38920 non-null  float64\n",
      " 37  f_market_Textbooks              38920 non-null  float64\n",
      " 38  f_market_Homeland Security      38920 non-null  float64\n",
      " 39  f_market_Local Commerce         38920 non-null  float64\n",
      " 40  f_market_Motors                 38920 non-null  float64\n",
      " 41  f_market_Email Newsletters      38920 non-null  float64\n",
      " 42  f_market_Cable                  38920 non-null  float64\n",
      " 43  f_country_code_USA              38920 non-null  float64\n",
      " 44  f_country_code_GBR              38920 non-null  float64\n",
      " 45  f_country_code_CAN              38920 non-null  float64\n",
      " 46  f_country_code_CHN              38920 non-null  float64\n",
      " 47  f_country_code_FRA              38920 non-null  float64\n",
      " 48  f_country_code_EGY              38920 non-null  float64\n",
      " 49  f_country_code_LUX              38920 non-null  float64\n",
      " 50  f_country_code_NGA              38920 non-null  float64\n",
      " 51  f_country_code_KEN              38920 non-null  float64\n",
      " 52  f_country_code_DZA              38920 non-null  float64\n",
      " 53  f_country_code_PER              38920 non-null  float64\n",
      " 54  f_country_code_ROM              38920 non-null  float64\n",
      " 55  f_country_code_LTU              38920 non-null  float64\n",
      " 56  f_country_code_PHL              38920 non-null  float64\n",
      " 57  f_country_code_COL              38920 non-null  float64\n",
      " 58  f_country_code_OMN              38920 non-null  float64\n",
      " 59  f_country_code_SOM              38920 non-null  float64\n",
      " 60  f_country_code_MKD              38920 non-null  float64\n",
      " 61  f_country_code_MUS              38920 non-null  float64\n",
      " 62  f_country_code_CIV              38920 non-null  float64\n",
      " 63  f_region_SF Bay Area            38920 non-null  float64\n",
      " 64  f_region_New York City          38920 non-null  float64\n",
      " 65  f_region_Boston                 38920 non-null  float64\n",
      " 66  f_region_London                 38920 non-null  float64\n",
      " 67  f_region_Los Angeles            38920 non-null  float64\n",
      " 68  f_region_Zhengzhou              38920 non-null  float64\n",
      " 69  f_region_Martinsried            38920 non-null  float64\n",
      " 70  f_region_Medellin               38920 non-null  float64\n",
      " 71  f_region_Warwick                38920 non-null  float64\n",
      " 72  f_region_Westmount              38920 non-null  float64\n",
      " 73  f_region_Orsay                  38920 non-null  float64\n",
      " 74  f_region_Vejle                  38920 non-null  float64\n",
      " 75  f_region_Northampton            38920 non-null  float64\n",
      " 76  f_region_Dortmund               38920 non-null  float64\n",
      " 77  f_region_Essex                  38920 non-null  float64\n",
      " 78  f_region_Tarragona              38920 non-null  float64\n",
      " 79  f_region_Thiruvananthapuram     38920 non-null  float64\n",
      " 80  f_region_Terni                  38920 non-null  float64\n",
      " 81  f_region_Monheim                38920 non-null  float64\n",
      " 82  f_region_Cordoba                38920 non-null  float64\n",
      " 83  f_Multi_Category                38920 non-null  int64  \n",
      " 84  f_URL                           38920 non-null  int64  \n",
      " 85  f_age                           38920 non-null  float64\n",
      " 86  f_yearstoFirstFunding           38920 non-null  float64\n",
      " 87  f_FirstFundingToLastFunding     38920 non-null  float64\n",
      "dtypes: float64(85), int64(2), object(1)\n",
      "memory usage: 27.4+ MB\n"
     ]
    }
   ],
   "source": [
    "df.info()"
   ]
  },
  {
   "cell_type": "code",
   "execution_count": 36,
   "id": "301a6990",
   "metadata": {},
   "outputs": [],
   "source": [
    "#Exporting Data Cleaning to .CSV\n",
    "df.to_csv('../dataset/data_eda.csv', index = False)"
   ]
  }
 ],
 "metadata": {
  "kernelspec": {
   "display_name": "bbobpcr",
   "language": "python",
   "name": "bbobpcr"
  },
  "language_info": {
   "codemirror_mode": {
    "name": "ipython",
    "version": 3
   },
   "file_extension": ".py",
   "mimetype": "text/x-python",
   "name": "python",
   "nbconvert_exporter": "python",
   "pygments_lexer": "ipython3",
   "version": "3.8.6"
  }
 },
 "nbformat": 4,
 "nbformat_minor": 5
}
